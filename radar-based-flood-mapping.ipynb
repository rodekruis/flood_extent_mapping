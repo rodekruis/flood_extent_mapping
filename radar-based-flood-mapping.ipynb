{
 "cells": [
  {
   "cell_type": "markdown",
   "id": "38db3c3b-f4eb-48cb-a276-5c43ec02e5af",
   "metadata": {},
   "source": [
    "# Radar-based flood mapping\n",
    "*Following the procedure from [UN-SPIDER radar-based flood mapping](https://github.com/UN-SPIDER/radar-based-flood-mapping)*"
   ]
  },
  {
   "cell_type": "markdown",
   "id": "3e216f7e-8633-4693-a7f2-786456088955",
   "metadata": {},
   "source": [
    "## User Input\n",
    "\n",
    "Please specify in the code cell below i) the polarisation to be processed, ii) whether data shall be downloaded from the <a href=\"https://scihub.copernicus.eu/\">Copernicus Open Access Hub</a> with respective sensing period and login details, and iii) whether intermediate results should be plotted during the process."
   ]
  },
  {
   "cell_type": "code",
   "execution_count": null,
   "id": "a4fa9086-7e19-410d-b716-7952133a740c",
   "metadata": {},
   "outputs": [],
   "source": [
    "# polarisations to be processed\n",
    "polarisations = 'VH'                              # 'VH', 'VV', 'both'\n",
    "\n",
    "# download image from Copernicus Open Access Hub\n",
    "dlinfo = {\n",
    "    'period_start'      : [2022, 1, 15],           # format: [Year, Month, Day] e.g. DAY AFTER FLOOD HAPPENED \n",
    "    'period_stop'       : [2022, 1, 25],           # format: [Year, Month, Day] e.g. WEEK AFTER FLOOD HAPPENED\n",
    "    'username'          : 'username',             # username for login\n",
    "    'password'          : 'password'              # password for login\n",
    "}\n",
    "\n",
    "# show intermediate results if set to 'True'\n",
    "showmaps = True                               # 'True', 'False'"
   ]
  },
  {
   "cell_type": "markdown",
   "id": "5d927f95-aa4d-4119-b916-ae6ddb584b5f",
   "metadata": {},
   "source": [
    "## Map flood\n",
    "\n",
    "1. Downloads satellite image closest to flood date\n",
    "2. Processes image\n",
    "3. Writes output"
   ]
  },
  {
   "cell_type": "code",
   "execution_count": null,
   "id": "f61d19b0-64b8-4a8b-806f-94c29b1a1529",
   "metadata": {},
   "outputs": [],
   "source": [
    "from main import *\n",
    "mapflood(polarisations, dlinfo, showmaps)"
   ]
  }
 ],
 "metadata": {
  "kernelspec": {
   "display_name": "Python 3 (ipykernel)",
   "language": "python",
   "name": "python3"
  },
  "language_info": {
   "codemirror_mode": {
    "name": "ipython",
    "version": 3
   },
   "file_extension": ".py",
   "mimetype": "text/x-python",
   "name": "python",
   "nbconvert_exporter": "python",
   "pygments_lexer": "ipython3",
   "version": "3.9.5"
  }
 },
 "nbformat": 4,
 "nbformat_minor": 5
}
