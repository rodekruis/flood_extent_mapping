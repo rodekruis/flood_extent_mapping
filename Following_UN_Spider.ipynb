{
 "cells": [
  {
   "cell_type": "markdown",
   "metadata": {},
   "source": [
    "# Following the procedure from UN-SPIDER radar-based-flood mapping \n",
    "\n",
    "1. Download sentinel-1 image(s) from Copernicus Open Acces Hub \n",
    "2. post-process images (noise filtering, etc.) using ESA's 'SNAP' tool package \n",
    "3. Create a binary map: \"water\" vs \"non-water\" \n",
    "4. Use GlobCover map to determine location of pernimant water bodies and use difference with step 3 to end up with \"flooded area\" vs \"not flooded\"\n"
   ]
  },
  {
   "cell_type": "markdown",
   "metadata": {},
   "source": [
    "## packages to install (on top of docker image with snappy)\n",
    "\n",
    "```\n",
    "pip install sentinelsat. \n",
    "conda install geopandas\n",
    "pip install rasterio\n",
    "conda install -c anaconda ipyleaflet\n",
    "conda install -c anaconda ipywidgets\n",
    "conda install scikit-image\n",
    "```\n",
    "\n",
    "\n",
    "**sharing the entire environment (takes care of conda vs pip packages)** \n",
    "\n",
    "1. When done building all the codesave environment specs to a file:\n",
    "    ```\n",
    "    conda env export > environment.yml\n",
    "    ```\n",
    "**note: might want to exclude jupyter-lab? unless needed for the widgets and we are not using any other solution** \n",
    "\n",
    "2. when building docker image, simply build the conda environment including all required packages: \n",
    "    ```\n",
    "    conda env create -f environment.yml \n",
    "    ```\n"
   ]
  },
  {
   "cell_type": "code",
   "execution_count": 1,
   "metadata": {},
   "outputs": [],
   "source": [
    "import snappy                                                           # postprocessing tools from ESA for SAR satellite images \n",
    "from sentinelsat import SentinelAPI, read_geojson, geojson_to_wkt       # access to Copernicus Open Access Hub \n",
    "import rasterio                                                         # dealing with raster images + masking with shapefiles \n",
    "import geopandas  as gpd                                                # GeoDataFrames\n",
    "\n",
    "\n",
    "from datetime import date                     # dates, times and intervalls\n",
    "import ipyleaflet                             # visualization\n",
    "import ipywidgets\n",
    "import json \n",
    "import zipfile \n",
    "import skimage.filters                        # threshold calculation\n",
    "\n",
    "\n",
    "import numpy as np \n",
    "import time "
   ]
  },
  {
   "cell_type": "markdown",
   "metadata": {},
   "source": [
    "# Connect to Copernicus Open Access Hub "
   ]
  },
  {
   "cell_type": "code",
   "execution_count": 2,
   "metadata": {},
   "outputs": [],
   "source": [
    "username = 'jacopo_margutti'\n",
    "password = 'Room4Copernicus'\n",
    "api = SentinelAPI(username , password)"
   ]
  },
  {
   "cell_type": "markdown",
   "metadata": {},
   "source": [
    "# Region of interest \n",
    "\n",
    "#### possible extentions \n",
    "\n",
    "* woosterheert used GDACS database to retreive event locations. Do we want to have this? \n",
    "* Get shapefile online and let user simply supply the country (code) "
   ]
  },
  {
   "cell_type": "code",
   "execution_count": 3,
   "metadata": {},
   "outputs": [],
   "source": [
    "def bounding_box(polygon):\n",
    "    '''\n",
    "    use built-in method of geopandas to get bounding box when supplying Geo DataFrame \n",
    "    \n",
    "    Syntax does not make clear I am calling Geopandas --> the function works on a shapely geometry object. \n",
    "    '''    \n",
    "    xmin, ymin, xmax, ymax = polygon.bounds \n",
    "    return xmin, ymin, xmax, ymax\n",
    "    \n",
    "\n",
    "def create_polygon_from_bbox(bbox_in):\n",
    "    \"\"\"\n",
    "    Turns a list of bounding box coordinates into a list of polygon points by creating a closed loop that defines the contours of the bounding box\n",
    "    This can be used for query. \n",
    "    \"\"\"\n",
    "    xmin, ymin, xmax, ymax = bbox_in \n",
    "    polygon =[(ymin, xmin),\n",
    "              (ymax, xmin),\n",
    "              (ymax, xmax),\n",
    "              (ymin, xmax),\n",
    "              (ymin, xmin)\n",
    "             ]\n",
    "    return polygon\n",
    "\n",
    "\n",
    "\n",
    "\n",
    "\n",
    "\n",
    "shapeData = gpd.read_file('admin_boundaries/zwe_admbnda_adm0_zimstat_ocha_20180911.shp')\n",
    "\n",
    "for geometry in shapeData['geometry']:\n",
    "    bbox = bounding_box(geometry)\n",
    "    pol = create_polygon_from_bbox(bbox)"
   ]
  },
  {
   "cell_type": "markdown",
   "metadata": {},
   "source": [
    "#### check bounding box on map "
   ]
  },
  {
   "cell_type": "code",
   "execution_count": 4,
   "metadata": {},
   "outputs": [
    {
     "data": {
      "application/vnd.jupyter.widget-view+json": {
       "model_id": "05465c8c288644d892578e4a0e25b3e8",
       "version_major": 2,
       "version_minor": 0
      },
      "text/plain": [
       "Map(center=[0.0, 0.0], controls=(ZoomControl(options=['position', 'zoom_in_text', 'zoom_in_title', 'zoom_out_t…"
      ]
     },
     "metadata": {},
     "output_type": "display_data"
    }
   ],
   "source": [
    "download_map = ipyleaflet.Map(zoom = 1.4)\n",
    "download_map.add_control(ipyleaflet.SearchControl(\n",
    "    position = 'topleft',\n",
    "    url = 'https://nominatim.openstreetmap.org/search?format=json&q={s}',\n",
    "    zoom = 5))\n",
    "download_map.add_control(ipyleaflet.ScaleControl(position='bottomleft'))\n",
    "\n",
    "\n",
    "\n",
    "\n",
    "\n",
    "\n",
    "\n",
    "display(download_map)\n",
    "\n",
    "# show AOI on map according to JSON data\n",
    "with open(\"zimbabwe.geojson\",'r') as geoJSON:\n",
    "    data_json = json.load(geoJSON)\n",
    "\n",
    "aoi = ipyleaflet.GeoJSON(data = data_json, style = {'color' : 'green'})\n",
    "download_map.center = (aoi.data['features'][0]['geometry']['coordinates'][0][0][1],\n",
    "                       aoi.data['features'][0]['geometry']['coordinates'][0][0][0])\n",
    "download_map.zoom = 4.5 \n",
    "download_map.add_layer(aoi)\n",
    "\n",
    "\n",
    "aoi_bbox = ipyleaflet.Polygon(locations = pol, color=\"red\", fill_color=\"white\")\n",
    "download_map.add_layer(aoi_bbox)\n",
    "\n",
    "\n",
    "\n",
    "\n"
   ]
  },
  {
   "cell_type": "markdown",
   "metadata": {},
   "source": [
    "#### Retreiving shapefile from GeoNode\n",
    "\n",
    "Main issues:\n",
    "* non-uniform naming of files \n",
    "* not always shapefile available \n",
    "* URL is outdated I think "
   ]
  },
  {
   "cell_type": "code",
   "execution_count": null,
   "metadata": {},
   "outputs": [],
   "source": [
    "from owslib.wfs import WebFeatureService\n",
    "\n",
    "\n",
    "def download_shapefile(mySettings):\n",
    "    '''\n",
    "    Retrieve shapefile data from Geonode server.\n",
    "    Store a 'GeoJSON' file (GeoDataFrame) in temporary folder that contains the\n",
    "    IDs of the boundaries and the shapes/polygons.\n",
    "\n",
    "    :param mySettings:\n",
    "    :return:\n",
    "    '''\n",
    "\n",
    "    # --- Ask if possible to make one uniform naming for shapefiles ---\n",
    "    country = mySettings.country\n",
    "    admin_lvl = mySettings.admin_lvl\n",
    "    layer_id = 'geonode:'+ '_'.join([country, admin_lvl, 'mapshaper','reproj'])\n",
    "\n",
    "    wfs_url = 'https://geonode.510.global/geoserver/geonode_old/ows'\n",
    "    wfs = WebFeatureService(wfs_url)\n",
    "    wfs = WebFeatureService(wfs_url, version='1.0.0')\n",
    "\n",
    "    # Get the actual data\n",
    "    binary_data = wfs.getfeature(typename=layer_id, outputFormat='application/json')\n",
    "\n",
    "    # write to file\n",
    "    shapefile_filename =layer_id.replace('geonode:', '') + '.geojson'\n",
    "    shapefile_filename = os.path.join(mySettings.temporary_folder, shapefile_filename )\n",
    "#     with open(shapefile_filename, 'wb') as shapefile:\n",
    "    with open(shapefile_filename, 'w') as shapefile:\n",
    "        shapefile.write(binary_data.read())\n",
    "    return shapefile_filename\n"
   ]
  },
  {
   "cell_type": "markdown",
   "metadata": {},
   "source": [
    "# Query available images at Copernicus Open Access Hub \n",
    "\n",
    "\n",
    "Add option to enter your own dates of interest?\n",
    "I like woosterheerts' default to query for the last 30 days "
   ]
  },
  {
   "cell_type": "code",
   "execution_count": 5,
   "metadata": {},
   "outputs": [],
   "source": [
    "def get_available_satellite_images(api_in, coordinates_in, coordinates_type='POLY'):\n",
    "    \"\"\"\n",
    "    Queries the sentinel api for available images in the past 30 days for a specified region for Sentinel-1.\n",
    "    Region can be specified either by the coordinates of a point (coordinates_type='POINT') or a list of polygon points.\n",
    "    The area in the query needs to be provided as in:\n",
    "    https://en.wikipedia.org/wiki/Well-known_text_representation_of_geometry\n",
    "    After querying it filters for the GRD images and sorts them by ingestion date\n",
    "    Function returns a dataframe with all the available image id's and their properties\n",
    "    \"\"\"\n",
    "    \n",
    "    if coordinates_type == 'POLY':\n",
    "        poly = coordinates_in\n",
    "        area = \"POLYGON(({}))\".format(\",\".join([\"{} {}\".format(p[0], p[1]) for p in poly]))\n",
    "    else:\n",
    "        point = coordinates_in\n",
    "        area = \"POINT({} {})\".format(point[0], point[1])\n",
    "\n",
    "    products = api_in.query(date=('NOW-30DAYS', 'NOW'),\n",
    "                            platformname='Sentinel-1',\n",
    "                            producttype = 'GRD',\n",
    "                            area=area)\n",
    "\n",
    "    products_df = api_in.to_dataframe(products)\n",
    "    products_df.sort_values('ingestiondate', ascending=False, inplace=True)\n",
    "    return products_df"
   ]
  },
  {
   "cell_type": "code",
   "execution_count": 6,
   "metadata": {},
   "outputs": [
    {
     "data": {
      "application/vnd.jupyter.widget-view+json": {
       "model_id": "14acd9aa8be0492d905d4d052ff336b8",
       "version_major": 2,
       "version_minor": 0
      },
      "text/plain": [
       "Querying products:  49%|####8     | 100/205 [00:00<?, ? products/s]"
      ]
     },
     "metadata": {},
     "output_type": "display_data"
    }
   ],
   "source": [
    "products = get_available_satellite_images(api, pol)"
   ]
  },
  {
   "cell_type": "code",
   "execution_count": 7,
   "metadata": {},
   "outputs": [
    {
     "data": {
      "text/html": [
       "<div>\n",
       "<style scoped>\n",
       "    .dataframe tbody tr th:only-of-type {\n",
       "        vertical-align: middle;\n",
       "    }\n",
       "\n",
       "    .dataframe tbody tr th {\n",
       "        vertical-align: top;\n",
       "    }\n",
       "\n",
       "    .dataframe thead th {\n",
       "        text-align: right;\n",
       "    }\n",
       "</style>\n",
       "<table border=\"1\" class=\"dataframe\">\n",
       "  <thead>\n",
       "    <tr style=\"text-align: right;\">\n",
       "      <th></th>\n",
       "      <th>title</th>\n",
       "      <th>link</th>\n",
       "      <th>link_alternative</th>\n",
       "      <th>link_icon</th>\n",
       "      <th>summary</th>\n",
       "      <th>ondemand</th>\n",
       "      <th>beginposition</th>\n",
       "      <th>endposition</th>\n",
       "      <th>ingestiondate</th>\n",
       "      <th>missiondatatakeid</th>\n",
       "      <th>...</th>\n",
       "      <th>platformname</th>\n",
       "      <th>platformidentifier</th>\n",
       "      <th>instrumentname</th>\n",
       "      <th>instrumentshortname</th>\n",
       "      <th>productclass</th>\n",
       "      <th>polarisationmode</th>\n",
       "      <th>acquisitiontype</th>\n",
       "      <th>gmlfootprint</th>\n",
       "      <th>footprint</th>\n",
       "      <th>uuid</th>\n",
       "    </tr>\n",
       "  </thead>\n",
       "  <tbody>\n",
       "    <tr>\n",
       "      <th>e87893d5-8299-4739-b339-d915f9469a39</th>\n",
       "      <td>S1B_IW_GRDH_1SDV_20210806T070209_20210806T0702...</td>\n",
       "      <td>https://apihub.copernicus.eu/apihub/odata/v1/P...</td>\n",
       "      <td>https://apihub.copernicus.eu/apihub/odata/v1/P...</td>\n",
       "      <td>https://apihub.copernicus.eu/apihub/odata/v1/P...</td>\n",
       "      <td>Date: 2021-08-06T07:02:09.946Z, Instrument: SA...</td>\n",
       "      <td>false</td>\n",
       "      <td>2021-08-06 07:02:09.946</td>\n",
       "      <td>2021-08-06 07:02:34.944</td>\n",
       "      <td>2021-08-06 08:18:11.414</td>\n",
       "      <td>219860</td>\n",
       "      <td>...</td>\n",
       "      <td>Sentinel-1</td>\n",
       "      <td>2016-025A</td>\n",
       "      <td>Synthetic Aperture Radar (C-band)</td>\n",
       "      <td>SAR-C SAR</td>\n",
       "      <td>S</td>\n",
       "      <td>VV VH</td>\n",
       "      <td>NOMINAL</td>\n",
       "      <td>&lt;gml:Polygon srsName=\"http://www.opengis.net/g...</td>\n",
       "      <td>MULTIPOLYGON (((-15.065257 27.05961, -14.73430...</td>\n",
       "      <td>e87893d5-8299-4739-b339-d915f9469a39</td>\n",
       "    </tr>\n",
       "    <tr>\n",
       "      <th>cb5beee4-7760-4caf-8920-2de709a46a0a</th>\n",
       "      <td>S1B_IW_GRDH_1SDV_20210806T070234_20210806T0703...</td>\n",
       "      <td>https://apihub.copernicus.eu/apihub/odata/v1/P...</td>\n",
       "      <td>https://apihub.copernicus.eu/apihub/odata/v1/P...</td>\n",
       "      <td>https://apihub.copernicus.eu/apihub/odata/v1/P...</td>\n",
       "      <td>Date: 2021-08-06T07:02:34.945Z, Instrument: SA...</td>\n",
       "      <td>false</td>\n",
       "      <td>2021-08-06 07:02:34.945</td>\n",
       "      <td>2021-08-06 07:03:02.247</td>\n",
       "      <td>2021-08-06 08:12:15.188</td>\n",
       "      <td>219860</td>\n",
       "      <td>...</td>\n",
       "      <td>Sentinel-1</td>\n",
       "      <td>2016-025A</td>\n",
       "      <td>Synthetic Aperture Radar (C-band)</td>\n",
       "      <td>SAR-C SAR</td>\n",
       "      <td>S</td>\n",
       "      <td>VV VH</td>\n",
       "      <td>NOMINAL</td>\n",
       "      <td>&lt;gml:Polygon srsName=\"http://www.opengis.net/g...</td>\n",
       "      <td>MULTIPOLYGON (((-15.422532 25.412209, -15.0652...</td>\n",
       "      <td>cb5beee4-7760-4caf-8920-2de709a46a0a</td>\n",
       "    </tr>\n",
       "    <tr>\n",
       "      <th>2c3aa57e-eeae-483e-bc0d-a07152058773</th>\n",
       "      <td>S1B_IW_GRDH_1SDV_20210806T070119_20210806T0701...</td>\n",
       "      <td>https://apihub.copernicus.eu/apihub/odata/v1/P...</td>\n",
       "      <td>https://apihub.copernicus.eu/apihub/odata/v1/P...</td>\n",
       "      <td>https://apihub.copernicus.eu/apihub/odata/v1/P...</td>\n",
       "      <td>Date: 2021-08-06T07:01:19.945Z, Instrument: SA...</td>\n",
       "      <td>false</td>\n",
       "      <td>2021-08-06 07:01:19.945</td>\n",
       "      <td>2021-08-06 07:01:44.943</td>\n",
       "      <td>2021-08-06 08:06:18.627</td>\n",
       "      <td>219860</td>\n",
       "      <td>...</td>\n",
       "      <td>Sentinel-1</td>\n",
       "      <td>2016-025A</td>\n",
       "      <td>Synthetic Aperture Radar (C-band)</td>\n",
       "      <td>SAR-C SAR</td>\n",
       "      <td>S</td>\n",
       "      <td>VV VH</td>\n",
       "      <td>NOMINAL</td>\n",
       "      <td>&lt;gml:Polygon srsName=\"http://www.opengis.net/g...</td>\n",
       "      <td>MULTIPOLYGON (((-14.399137 30.074718, -14.0593...</td>\n",
       "      <td>2c3aa57e-eeae-483e-bc0d-a07152058773</td>\n",
       "    </tr>\n",
       "    <tr>\n",
       "      <th>c1c58f98-0092-422f-9f80-f68e8a31f437</th>\n",
       "      <td>S1B_IW_GRDH_1SDV_20210806T070054_20210806T0701...</td>\n",
       "      <td>https://apihub.copernicus.eu/apihub/odata/v1/P...</td>\n",
       "      <td>https://apihub.copernicus.eu/apihub/odata/v1/P...</td>\n",
       "      <td>https://apihub.copernicus.eu/apihub/odata/v1/P...</td>\n",
       "      <td>Date: 2021-08-06T07:00:54.946Z, Instrument: SA...</td>\n",
       "      <td>false</td>\n",
       "      <td>2021-08-06 07:00:54.946</td>\n",
       "      <td>2021-08-06 07:01:19.944</td>\n",
       "      <td>2021-08-06 08:00:10.906</td>\n",
       "      <td>219860</td>\n",
       "      <td>...</td>\n",
       "      <td>Sentinel-1</td>\n",
       "      <td>2016-025A</td>\n",
       "      <td>Synthetic Aperture Radar (C-band)</td>\n",
       "      <td>SAR-C SAR</td>\n",
       "      <td>S</td>\n",
       "      <td>VV VH</td>\n",
       "      <td>NOMINAL</td>\n",
       "      <td>&lt;gml:Polygon srsName=\"http://www.opengis.net/g...</td>\n",
       "      <td>MULTIPOLYGON (((-14.059367 31.58127, -13.71443...</td>\n",
       "      <td>c1c58f98-0092-422f-9f80-f68e8a31f437</td>\n",
       "    </tr>\n",
       "    <tr>\n",
       "      <th>1a392cc8-ae2c-4008-8bed-2988de978a27</th>\n",
       "      <td>S1B_IW_GRDH_1SDV_20210806T070144_20210806T0702...</td>\n",
       "      <td>https://apihub.copernicus.eu/apihub/odata/v1/P...</td>\n",
       "      <td>https://apihub.copernicus.eu/apihub/odata/v1/P...</td>\n",
       "      <td>https://apihub.copernicus.eu/apihub/odata/v1/P...</td>\n",
       "      <td>Date: 2021-08-06T07:01:44.945Z, Instrument: SA...</td>\n",
       "      <td>false</td>\n",
       "      <td>2021-08-06 07:01:44.945</td>\n",
       "      <td>2021-08-06 07:02:09.944</td>\n",
       "      <td>2021-08-06 07:54:13.519</td>\n",
       "      <td>219860</td>\n",
       "      <td>...</td>\n",
       "      <td>Sentinel-1</td>\n",
       "      <td>2016-025A</td>\n",
       "      <td>Synthetic Aperture Radar (C-band)</td>\n",
       "      <td>SAR-C SAR</td>\n",
       "      <td>S</td>\n",
       "      <td>VV VH</td>\n",
       "      <td>NOMINAL</td>\n",
       "      <td>&lt;gml:Polygon srsName=\"http://www.opengis.net/g...</td>\n",
       "      <td>MULTIPOLYGON (((-14.734282 28.567427, -14.3991...</td>\n",
       "      <td>1a392cc8-ae2c-4008-8bed-2988de978a27</td>\n",
       "    </tr>\n",
       "  </tbody>\n",
       "</table>\n",
       "<p>5 rows × 35 columns</p>\n",
       "</div>"
      ],
      "text/plain": [
       "                                                                                  title  \\\n",
       "e87893d5-8299-4739-b339-d915f9469a39  S1B_IW_GRDH_1SDV_20210806T070209_20210806T0702...   \n",
       "cb5beee4-7760-4caf-8920-2de709a46a0a  S1B_IW_GRDH_1SDV_20210806T070234_20210806T0703...   \n",
       "2c3aa57e-eeae-483e-bc0d-a07152058773  S1B_IW_GRDH_1SDV_20210806T070119_20210806T0701...   \n",
       "c1c58f98-0092-422f-9f80-f68e8a31f437  S1B_IW_GRDH_1SDV_20210806T070054_20210806T0701...   \n",
       "1a392cc8-ae2c-4008-8bed-2988de978a27  S1B_IW_GRDH_1SDV_20210806T070144_20210806T0702...   \n",
       "\n",
       "                                                                                   link  \\\n",
       "e87893d5-8299-4739-b339-d915f9469a39  https://apihub.copernicus.eu/apihub/odata/v1/P...   \n",
       "cb5beee4-7760-4caf-8920-2de709a46a0a  https://apihub.copernicus.eu/apihub/odata/v1/P...   \n",
       "2c3aa57e-eeae-483e-bc0d-a07152058773  https://apihub.copernicus.eu/apihub/odata/v1/P...   \n",
       "c1c58f98-0092-422f-9f80-f68e8a31f437  https://apihub.copernicus.eu/apihub/odata/v1/P...   \n",
       "1a392cc8-ae2c-4008-8bed-2988de978a27  https://apihub.copernicus.eu/apihub/odata/v1/P...   \n",
       "\n",
       "                                                                       link_alternative  \\\n",
       "e87893d5-8299-4739-b339-d915f9469a39  https://apihub.copernicus.eu/apihub/odata/v1/P...   \n",
       "cb5beee4-7760-4caf-8920-2de709a46a0a  https://apihub.copernicus.eu/apihub/odata/v1/P...   \n",
       "2c3aa57e-eeae-483e-bc0d-a07152058773  https://apihub.copernicus.eu/apihub/odata/v1/P...   \n",
       "c1c58f98-0092-422f-9f80-f68e8a31f437  https://apihub.copernicus.eu/apihub/odata/v1/P...   \n",
       "1a392cc8-ae2c-4008-8bed-2988de978a27  https://apihub.copernicus.eu/apihub/odata/v1/P...   \n",
       "\n",
       "                                                                              link_icon  \\\n",
       "e87893d5-8299-4739-b339-d915f9469a39  https://apihub.copernicus.eu/apihub/odata/v1/P...   \n",
       "cb5beee4-7760-4caf-8920-2de709a46a0a  https://apihub.copernicus.eu/apihub/odata/v1/P...   \n",
       "2c3aa57e-eeae-483e-bc0d-a07152058773  https://apihub.copernicus.eu/apihub/odata/v1/P...   \n",
       "c1c58f98-0092-422f-9f80-f68e8a31f437  https://apihub.copernicus.eu/apihub/odata/v1/P...   \n",
       "1a392cc8-ae2c-4008-8bed-2988de978a27  https://apihub.copernicus.eu/apihub/odata/v1/P...   \n",
       "\n",
       "                                                                                summary  \\\n",
       "e87893d5-8299-4739-b339-d915f9469a39  Date: 2021-08-06T07:02:09.946Z, Instrument: SA...   \n",
       "cb5beee4-7760-4caf-8920-2de709a46a0a  Date: 2021-08-06T07:02:34.945Z, Instrument: SA...   \n",
       "2c3aa57e-eeae-483e-bc0d-a07152058773  Date: 2021-08-06T07:01:19.945Z, Instrument: SA...   \n",
       "c1c58f98-0092-422f-9f80-f68e8a31f437  Date: 2021-08-06T07:00:54.946Z, Instrument: SA...   \n",
       "1a392cc8-ae2c-4008-8bed-2988de978a27  Date: 2021-08-06T07:01:44.945Z, Instrument: SA...   \n",
       "\n",
       "                                     ondemand           beginposition  \\\n",
       "e87893d5-8299-4739-b339-d915f9469a39    false 2021-08-06 07:02:09.946   \n",
       "cb5beee4-7760-4caf-8920-2de709a46a0a    false 2021-08-06 07:02:34.945   \n",
       "2c3aa57e-eeae-483e-bc0d-a07152058773    false 2021-08-06 07:01:19.945   \n",
       "c1c58f98-0092-422f-9f80-f68e8a31f437    false 2021-08-06 07:00:54.946   \n",
       "1a392cc8-ae2c-4008-8bed-2988de978a27    false 2021-08-06 07:01:44.945   \n",
       "\n",
       "                                                 endposition  \\\n",
       "e87893d5-8299-4739-b339-d915f9469a39 2021-08-06 07:02:34.944   \n",
       "cb5beee4-7760-4caf-8920-2de709a46a0a 2021-08-06 07:03:02.247   \n",
       "2c3aa57e-eeae-483e-bc0d-a07152058773 2021-08-06 07:01:44.943   \n",
       "c1c58f98-0092-422f-9f80-f68e8a31f437 2021-08-06 07:01:19.944   \n",
       "1a392cc8-ae2c-4008-8bed-2988de978a27 2021-08-06 07:02:09.944   \n",
       "\n",
       "                                               ingestiondate  \\\n",
       "e87893d5-8299-4739-b339-d915f9469a39 2021-08-06 08:18:11.414   \n",
       "cb5beee4-7760-4caf-8920-2de709a46a0a 2021-08-06 08:12:15.188   \n",
       "2c3aa57e-eeae-483e-bc0d-a07152058773 2021-08-06 08:06:18.627   \n",
       "c1c58f98-0092-422f-9f80-f68e8a31f437 2021-08-06 08:00:10.906   \n",
       "1a392cc8-ae2c-4008-8bed-2988de978a27 2021-08-06 07:54:13.519   \n",
       "\n",
       "                                      missiondatatakeid  ...  platformname  \\\n",
       "e87893d5-8299-4739-b339-d915f9469a39             219860  ...    Sentinel-1   \n",
       "cb5beee4-7760-4caf-8920-2de709a46a0a             219860  ...    Sentinel-1   \n",
       "2c3aa57e-eeae-483e-bc0d-a07152058773             219860  ...    Sentinel-1   \n",
       "c1c58f98-0092-422f-9f80-f68e8a31f437             219860  ...    Sentinel-1   \n",
       "1a392cc8-ae2c-4008-8bed-2988de978a27             219860  ...    Sentinel-1   \n",
       "\n",
       "                                      platformidentifier  \\\n",
       "e87893d5-8299-4739-b339-d915f9469a39           2016-025A   \n",
       "cb5beee4-7760-4caf-8920-2de709a46a0a           2016-025A   \n",
       "2c3aa57e-eeae-483e-bc0d-a07152058773           2016-025A   \n",
       "c1c58f98-0092-422f-9f80-f68e8a31f437           2016-025A   \n",
       "1a392cc8-ae2c-4008-8bed-2988de978a27           2016-025A   \n",
       "\n",
       "                                                         instrumentname  \\\n",
       "e87893d5-8299-4739-b339-d915f9469a39  Synthetic Aperture Radar (C-band)   \n",
       "cb5beee4-7760-4caf-8920-2de709a46a0a  Synthetic Aperture Radar (C-band)   \n",
       "2c3aa57e-eeae-483e-bc0d-a07152058773  Synthetic Aperture Radar (C-band)   \n",
       "c1c58f98-0092-422f-9f80-f68e8a31f437  Synthetic Aperture Radar (C-band)   \n",
       "1a392cc8-ae2c-4008-8bed-2988de978a27  Synthetic Aperture Radar (C-band)   \n",
       "\n",
       "                                      instrumentshortname  productclass  \\\n",
       "e87893d5-8299-4739-b339-d915f9469a39            SAR-C SAR             S   \n",
       "cb5beee4-7760-4caf-8920-2de709a46a0a            SAR-C SAR             S   \n",
       "2c3aa57e-eeae-483e-bc0d-a07152058773            SAR-C SAR             S   \n",
       "c1c58f98-0092-422f-9f80-f68e8a31f437            SAR-C SAR             S   \n",
       "1a392cc8-ae2c-4008-8bed-2988de978a27            SAR-C SAR             S   \n",
       "\n",
       "                                     polarisationmode acquisitiontype  \\\n",
       "e87893d5-8299-4739-b339-d915f9469a39            VV VH         NOMINAL   \n",
       "cb5beee4-7760-4caf-8920-2de709a46a0a            VV VH         NOMINAL   \n",
       "2c3aa57e-eeae-483e-bc0d-a07152058773            VV VH         NOMINAL   \n",
       "c1c58f98-0092-422f-9f80-f68e8a31f437            VV VH         NOMINAL   \n",
       "1a392cc8-ae2c-4008-8bed-2988de978a27            VV VH         NOMINAL   \n",
       "\n",
       "                                                                           gmlfootprint  \\\n",
       "e87893d5-8299-4739-b339-d915f9469a39  <gml:Polygon srsName=\"http://www.opengis.net/g...   \n",
       "cb5beee4-7760-4caf-8920-2de709a46a0a  <gml:Polygon srsName=\"http://www.opengis.net/g...   \n",
       "2c3aa57e-eeae-483e-bc0d-a07152058773  <gml:Polygon srsName=\"http://www.opengis.net/g...   \n",
       "c1c58f98-0092-422f-9f80-f68e8a31f437  <gml:Polygon srsName=\"http://www.opengis.net/g...   \n",
       "1a392cc8-ae2c-4008-8bed-2988de978a27  <gml:Polygon srsName=\"http://www.opengis.net/g...   \n",
       "\n",
       "                                                                              footprint  \\\n",
       "e87893d5-8299-4739-b339-d915f9469a39  MULTIPOLYGON (((-15.065257 27.05961, -14.73430...   \n",
       "cb5beee4-7760-4caf-8920-2de709a46a0a  MULTIPOLYGON (((-15.422532 25.412209, -15.0652...   \n",
       "2c3aa57e-eeae-483e-bc0d-a07152058773  MULTIPOLYGON (((-14.399137 30.074718, -14.0593...   \n",
       "c1c58f98-0092-422f-9f80-f68e8a31f437  MULTIPOLYGON (((-14.059367 31.58127, -13.71443...   \n",
       "1a392cc8-ae2c-4008-8bed-2988de978a27  MULTIPOLYGON (((-14.734282 28.567427, -14.3991...   \n",
       "\n",
       "                                                                      uuid  \n",
       "e87893d5-8299-4739-b339-d915f9469a39  e87893d5-8299-4739-b339-d915f9469a39  \n",
       "cb5beee4-7760-4caf-8920-2de709a46a0a  cb5beee4-7760-4caf-8920-2de709a46a0a  \n",
       "2c3aa57e-eeae-483e-bc0d-a07152058773  2c3aa57e-eeae-483e-bc0d-a07152058773  \n",
       "c1c58f98-0092-422f-9f80-f68e8a31f437  c1c58f98-0092-422f-9f80-f68e8a31f437  \n",
       "1a392cc8-ae2c-4008-8bed-2988de978a27  1a392cc8-ae2c-4008-8bed-2988de978a27  \n",
       "\n",
       "[5 rows x 35 columns]"
      ]
     },
     "execution_count": 7,
     "metadata": {},
     "output_type": "execute_result"
    }
   ],
   "source": [
    "products.head()"
   ]
  },
  {
   "cell_type": "markdown",
   "metadata": {},
   "source": [
    "# Download images "
   ]
  },
  {
   "cell_type": "markdown",
   "metadata": {},
   "source": [
    "### make folder (can be temporary) "
   ]
  },
  {
   "cell_type": "code",
   "execution_count": null,
   "metadata": {},
   "outputs": [],
   "source": [
    "import os\n",
    "\n",
    "# temp folder to store all downloads into \n",
    "downloadFldr = os.path.join(os.getcwd(), 'sentinel_downloads')\n",
    "if not os.path.exists(downloadFldr):\n",
    "    os.mkdir(downloadFldr)\n",
    "\n",
    "# at the end of code: \n",
    "os.rmdir(downloadFldr)"
   ]
  },
  {
   "cell_type": "code",
   "execution_count": null,
   "metadata": {},
   "outputs": [],
   "source": [
    "tile_id = products['uuid'][0]\n",
    "product_info = api.download(id = tile_id, directory_path=downloadFldr)"
   ]
  },
  {
   "cell_type": "code",
   "execution_count": null,
   "metadata": {},
   "outputs": [],
   "source": [
    "product_info"
   ]
  },
  {
   "cell_type": "markdown",
   "metadata": {},
   "source": [
    "# Preprocess obtained Sentinel-1 product (raw satelite data downloaded)\n",
    "\n",
    "Use snappy package to process images according to UN-Spider protocol "
   ]
  },
  {
   "cell_type": "code",
   "execution_count": 8,
   "metadata": {},
   "outputs": [
    {
     "name": "stdout",
     "output_type": "stream",
     "text": [
      "/home/jovyan/flood_extent_mapping/sentinel_downloads/S1A_IW_GRDH_1SDV_20210805T071151_20210805T071216_039091_049CD6_EF61.zip\n"
     ]
    }
   ],
   "source": [
    "import os \n",
    "downloadFldr = os.path.join(os.getcwd(), 'sentinel_downloads')\n",
    "\n",
    "for root, _ , files in os.walk(downloadFldr):\n",
    "    for file in files:\n",
    "        file_sentinel = os.path.join(root, file)\n",
    "\n",
    "print(file_sentinel)"
   ]
  },
  {
   "cell_type": "code",
   "execution_count": 9,
   "metadata": {},
   "outputs": [
    {
     "name": "stdout",
     "output_type": "stream",
     "text": [
      "Amplitude_VH,Intensity_VH,Amplitude_VV,Intensity_VV\n"
     ]
    }
   ],
   "source": [
    "def get_sourceBands(polarisations):\n",
    "    \n",
    "    # use alphabetical order to be consistent with UN-spider code (might not be strictly necessary)\n",
    "    listOfPolarisations = polarisations.split()\n",
    "    listOfPolarisations.sort()\n",
    "    return ','.join([f\"Amplitude_{polarisation},Intensity_{polarisation}\" for polarisation in listOfPolarisations])\n",
    "        \n",
    "    \n",
    "sourceBands = get_sourceBands(products['polarisationmode'].iloc[0])\n",
    "print(sourceBands)"
   ]
  },
  {
   "cell_type": "markdown",
   "metadata": {},
   "source": [
    "#### processing steps "
   ]
  },
  {
   "cell_type": "code",
   "execution_count": 10,
   "metadata": {},
   "outputs": [],
   "source": [
    "import time \n",
    "\n",
    "def apply_orbit_file(S1):\n",
    "    parameters = snappy.HashMap()\n",
    "    # continue with calculation in case no orbit file is available yet\n",
    "    parameters.put('continueOnFail', True)\n",
    "    \n",
    "    S1_Orb = snappy.GPF.createProduct('Apply-Orbit-File', parameters, S1)\n",
    "    return S1_Orb \n",
    "\n",
    "\n",
    "def thermal_noise_removal(S1):\n",
    "    parameters = snappy.HashMap()\n",
    "    parameters.put('copyMetadata', True)\n",
    "    parameters.put('removeThermalNoise', True)\n",
    "    S1_Thm = snappy.GPF.createProduct('ThermalNoiseRemoval', parameters, S1)\n",
    "    return S1_Thm\n",
    "\n",
    "def radiometric_callibration(S1):\n",
    "    parameters = snappy.HashMap()\n",
    "    parameters.put('outputSigmaBand', True)\n",
    "    S1_Cal = snappy.GPF.createProduct('Calibration', parameters, S1)\n",
    "    return S1_Cal\n",
    "\n",
    "\n",
    "def speckle_filtering(S1, filtersize = (5,5)):\n",
    "    \n",
    "    filtersize_x, filtersize_y = filtersize\n",
    "    \n",
    "    parameters = snappy.HashMap()\n",
    "    parameters.put('filter', 'Lee')\n",
    "    parameters.put('filterSizeX', filtersize_x)\n",
    "    parameters.put('filterSizeY', filtersize_y)\n",
    "    S1_Spk = snappy.GPF.createProduct('Speckle-Filter', parameters, S1)\n",
    "    return S1_Spk\n",
    "\n",
    "\n",
    "def terrain_correction(S1):\n",
    "    S1_db = snappy.GPF.createProduct('LinearToFromdB', snappy.HashMap(), S1)\n",
    "    parameters = snappy.HashMap()\n",
    "    parameters.put('demName', 'SRTM 1Sec HGT')\n",
    "    parameters.put('demResamplingMethod', 'BILINEAR_INTERPOLATION')\n",
    "    parameters.put('imgResamplingMethod', 'NEAREST_NEIGHBOUR')\n",
    "    parameters.put('pixelSpacingInMeter', 10.0)\n",
    "    parameters.put('nodataValueAtSea', False)\n",
    "    parameters.put('saveSelectedSourceBand', True)\n",
    "    S1_TC = snappy.GPF.createProduct('Terrain-Correction', parameters, S1_db)\n",
    "    return S1_TC \n"
   ]
  },
  {
   "cell_type": "markdown",
   "metadata": {},
   "source": [
    "### To avoid memory errors: Do entire processing within a function to not have all these S1-products in memory (global variables)"
   ]
  },
  {
   "cell_type": "code",
   "execution_count": 11,
   "metadata": {},
   "outputs": [],
   "source": [
    "def preprocess_sentinel_1(file_sentinel_product):\n",
    "    \n",
    "    # ---- load Sentinel product ---- \n",
    "    SentinelProduct = snappy.ProductIO.readProduct(file_sentinel)\n",
    "    \n",
    "    \n",
    "    # --- Oribit File (if available) ----\n",
    "    print('1. Apply Orbit File:          ', end='', flush=True)\n",
    "    start_time = time.time()\n",
    "    AppliedOrbitFile = apply_orbit_file(S1 = SentinelProduct)\n",
    "    del \n",
    "    \n",
    "    \n",
    "    print('--- %.2f  seconds ---' % (time.time() - start_time), flush=True)\n",
    "    \n",
    "    # --- Thermal Noise Removal ---- \n",
    "    print('2. Thermal Noise Removal:     ', end='', flush=True)\n",
    "    start_time = time.time()\n",
    "    ThermalNoiseRemoved = thermal_noise_removal(S1 = AppliedOrbitFile)\n",
    "    print('--- %.2f  seconds ---' % (time.time() - start_time), flush=True)\n",
    "    \n",
    "    # ---- Radiometric Calibration --- \n",
    "    print('3. Radiometric Calibration:    ', end='', flush=True)\n",
    "    start_time = time.time()\n",
    "    Calibrated = radiometric_callibration(S1 = ThermalNoiseRemoved)\n",
    "    print('--- %.2f  seconds ---' % (time.time() - start_time), flush=True)\n",
    "\n",
    "    # ---- Speckle Filtering ---- \n",
    "    print('4. Speckle Filtering:    ', end='', flush=True)\n",
    "    start_time = time.time()\n",
    "    SpeckleFiltered = speckle_filtering(S1 = Calibrated)\n",
    "    print('--- %.2f  seconds ---' % (time.time() - start_time), flush=True)\n",
    "\n",
    "\n",
    "    # ---- Terrain Correction --- \n",
    "    print('5. Terrain Correction:        ', end='', flush=True)\n",
    "    start_time = time.time()\n",
    "    TerrainCorrected = terrain_correction(S1 = SpeckleFiltered)\n",
    "    print('--- %.2f  seconds ---' % (time.time() - start_time), flush=True)\n",
    "    return TerrainCorrected\n"
   ]
  },
  {
   "cell_type": "markdown",
   "metadata": {},
   "source": [
    "# determine flood extend\n",
    "UN-spider protocol based on thresholding intensity values \n",
    "\n",
    "\n",
    "**Again, use local variables to not overlaod memory** "
   ]
  },
  {
   "cell_type": "code",
   "execution_count": 12,
   "metadata": {},
   "outputs": [],
   "source": [
    "\n",
    "def create_globcover(S1):\n",
    "    parameters = snappy.HashMap()\n",
    "    parameters.put('landCoverNames', 'GlobCover')\n",
    "    GlobCover = snappy.GPF.createProduct('AddLandCover', parameters, S1)\n",
    "    return GlobCover\n",
    "\n",
    "\n",
    "\n",
    "def getThreshold(S1_band):\n",
    "    # read band\n",
    "    w = S1_band.getRasterWidth()\n",
    "    h = S1_band.getRasterHeight()\n",
    "    band_data = np.zeros(w * h, np.float32)\n",
    "    S1_band.readPixels(0, 0, w, h, band_data)\n",
    "    band_data.shape = h * w\n",
    "\n",
    "    # calculate threshold using Otsu method\n",
    "    threshold_otsu = skimage.filters.threshold_otsu(band_data)\n",
    "    # calculate threshold using minimum method\n",
    "    threshold_minimum = skimage.filters.threshold_minimum(band_data)\n",
    "    # get number of pixels for both thresholds\n",
    "    numPixOtsu = len(band_data[abs(band_data - threshold_otsu) < 0.1])\n",
    "    numPixMinimum = len(band_data[abs(band_data - threshold_minimum) < 0.1])\n",
    "\n",
    "    # if number of pixels at minimum threshold is less than 1% of number of pixels at Otsu threshold\n",
    "    if abs(numPixMinimum/numPixOtsu) < 0.001:\n",
    "        # adjust band data according\n",
    "        if threshold_otsu < threshold_minimum:\n",
    "            band_data = band_data[band_data < threshold_minimum]\n",
    "            threshold_minimum = skimage.filters.threshold_minimum(band_data)\n",
    "        else:\n",
    "            band_data = band_data[band_data > threshold_minimum]\n",
    "            threshold_minimum = skimage.filters.threshold_minimum(band_data)\n",
    "    \n",
    "        numPixMinimum = len(band_data[abs(band_data - threshold_minimum) < 0.1])\n",
    "\n",
    "    # select final threshold\n",
    "    if abs(numPixMinimum/numPixOtsu) < 0.001:\n",
    "        threshold = threshold_otsu\n",
    "    else:\n",
    "        threshold = threshold_minimum\n",
    "\n",
    "    return threshold\n",
    "\n",
    "def binarization(S1_product, expressions):\n",
    "\n",
    "    BandDescriptor = jpy.get_type('org.esa.snap.core.gpf.common.BandMathsOp$BandDescriptor')\n",
    "    targetBands = jpy.array('org.esa.snap.core.gpf.common.BandMathsOp$BandDescriptor', len(expressions))\n",
    "\n",
    "    # loop through bands\n",
    "    for i in range(len(expressions)):\n",
    "        targetBand = BandDescriptor()\n",
    "        targetBand.name = '%s' % S1_product.getBandNames()[i]\n",
    "        targetBand.type = 'float32'\n",
    "        targetBand.expression = expressions[i]\n",
    "        targetBands[i] = targetBand\n",
    "    \n",
    "    parameters = snappy.HashMap()\n",
    "    parameters.put('targetBands', targetBands)    \n",
    "    mask = snappy.GPF.createProduct('BandMaths', parameters, S1_product)\n",
    "\n",
    "    return mask"
   ]
  },
  {
   "cell_type": "code",
   "execution_count": 13,
   "metadata": {},
   "outputs": [],
   "source": [
    "def binary_flood_mask(S1):    \n",
    "    print('6. Binarization:              ', end='', flush=True)\n",
    "    start_time = time.time()\n",
    "    \n",
    "    # Permanent water bodies from GlobCover map\n",
    "    GlobCover = create_globcover(S1)\n",
    "\n",
    "    \n",
    "    # Threshold calculations to separate water pixels from non-water pixels\n",
    "    # GlobCover is used to set difference between flooded pixel and pixel of permanent water body \n",
    "    expressions = ['' for i in range(S1.getNumBands())]\n",
    "    thresholds = np.zeros(S1.getNumBands())\n",
    "    S1_db = snappy.GPF.createProduct('LinearToFromdB', snappy.HashMap(), S1)\n",
    "                   \n",
    "    # loop through bands\n",
    "    for bandNmbr in range(S1.getNumBands()):\n",
    "        thresholds[i] = getThreshold(S1_db.getBandAt(bandNmbr))\n",
    "        expressions[i] = 'if (%s < %s && land_cover_GlobCover != 210) then 1 else NaN' % (S1.getBandNames()[bandNmbrr], thresholds[bandNmbr])\n",
    "        \n",
    "    \n",
    "    # do binarization\n",
    "    S1_floodMask = binarization(GlobCover, expressions)\n",
    "    print('--- %.2f seconds ---' % (time.time() - start_time), flush=True)\n",
    "    return S1_floodMask\n",
    "    \n",
    "    "
   ]
  },
  {
   "cell_type": "code",
   "execution_count": 18,
   "metadata": {},
   "outputs": [
    {
     "name": "stdout",
     "output_type": "stream",
     "text": [
      "1. Apply Orbit File:          --- 0.11  seconds ---\n",
      "2. Thermal Noise Removal:     --- 0.01  seconds ---\n",
      "3. Radiometric Calibration:    --- 0.04  seconds ---\n",
      "4. Speckle Filtering:    --- 0.02  seconds ---\n",
      "5. Terrain Correction:        --- 0.07  seconds ---\n",
      "6. Binarization:              "
     ]
    },
    {
     "ename": "MemoryError",
     "evalue": "",
     "output_type": "error",
     "traceback": [
      "\u001b[0;31m---------------------------------------------------------------------------\u001b[0m",
      "\u001b[0;31mMemoryError\u001b[0m                               Traceback (most recent call last)",
      "\u001b[0;32m<ipython-input-18-694a6c99f870>\u001b[0m in \u001b[0;36m<module>\u001b[0;34m\u001b[0m\n\u001b[1;32m      4\u001b[0m \u001b[0mProcessedData\u001b[0m \u001b[0;34m=\u001b[0m \u001b[0mpreprocess_sentinel_1\u001b[0m\u001b[0;34m(\u001b[0m\u001b[0mfile_sentinel_product\u001b[0m\u001b[0;34m=\u001b[0m \u001b[0mfile_sentinel\u001b[0m\u001b[0;34m)\u001b[0m\u001b[0;34m\u001b[0m\u001b[0;34m\u001b[0m\u001b[0m\n\u001b[1;32m      5\u001b[0m \u001b[0;34m\u001b[0m\u001b[0m\n\u001b[0;32m----> 6\u001b[0;31m \u001b[0mFloodMask\u001b[0m  \u001b[0;34m=\u001b[0m \u001b[0mbinary_flood_mask\u001b[0m\u001b[0;34m(\u001b[0m\u001b[0mS1\u001b[0m \u001b[0;34m=\u001b[0m \u001b[0mProcessedData\u001b[0m\u001b[0;34m)\u001b[0m\u001b[0;34m\u001b[0m\u001b[0;34m\u001b[0m\u001b[0m\n\u001b[0m",
      "\u001b[0;32m<ipython-input-13-a369e012f581>\u001b[0m in \u001b[0;36mbinary_flood_mask\u001b[0;34m(S1)\u001b[0m\n\u001b[1;32m     15\u001b[0m     \u001b[0;31m# loop through bands\u001b[0m\u001b[0;34m\u001b[0m\u001b[0;34m\u001b[0m\u001b[0;34m\u001b[0m\u001b[0m\n\u001b[1;32m     16\u001b[0m     \u001b[0;32mfor\u001b[0m \u001b[0mbandNmbr\u001b[0m \u001b[0;32min\u001b[0m \u001b[0mrange\u001b[0m\u001b[0;34m(\u001b[0m\u001b[0mS1\u001b[0m\u001b[0;34m.\u001b[0m\u001b[0mgetNumBands\u001b[0m\u001b[0;34m(\u001b[0m\u001b[0;34m)\u001b[0m\u001b[0;34m)\u001b[0m\u001b[0;34m:\u001b[0m\u001b[0;34m\u001b[0m\u001b[0;34m\u001b[0m\u001b[0m\n\u001b[0;32m---> 17\u001b[0;31m         \u001b[0mthresholds\u001b[0m\u001b[0;34m[\u001b[0m\u001b[0mi\u001b[0m\u001b[0;34m]\u001b[0m \u001b[0;34m=\u001b[0m \u001b[0mgetThreshold\u001b[0m\u001b[0;34m(\u001b[0m\u001b[0mS1_db\u001b[0m\u001b[0;34m.\u001b[0m\u001b[0mgetBandAt\u001b[0m\u001b[0;34m(\u001b[0m\u001b[0mbandNmbr\u001b[0m\u001b[0;34m)\u001b[0m\u001b[0;34m)\u001b[0m\u001b[0;34m\u001b[0m\u001b[0;34m\u001b[0m\u001b[0m\n\u001b[0m\u001b[1;32m     18\u001b[0m         \u001b[0mexpressions\u001b[0m\u001b[0;34m[\u001b[0m\u001b[0mi\u001b[0m\u001b[0;34m]\u001b[0m \u001b[0;34m=\u001b[0m \u001b[0;34m'if (%s < %s && land_cover_GlobCover != 210) then 1 else NaN'\u001b[0m \u001b[0;34m%\u001b[0m \u001b[0;34m(\u001b[0m\u001b[0mS1\u001b[0m\u001b[0;34m.\u001b[0m\u001b[0mgetBandNames\u001b[0m\u001b[0;34m(\u001b[0m\u001b[0;34m)\u001b[0m\u001b[0;34m[\u001b[0m\u001b[0mbandNmbrr\u001b[0m\u001b[0;34m]\u001b[0m\u001b[0;34m,\u001b[0m \u001b[0mthresholds\u001b[0m\u001b[0;34m[\u001b[0m\u001b[0mbandNmbr\u001b[0m\u001b[0;34m]\u001b[0m\u001b[0;34m)\u001b[0m\u001b[0;34m\u001b[0m\u001b[0;34m\u001b[0m\u001b[0m\n\u001b[1;32m     19\u001b[0m \u001b[0;34m\u001b[0m\u001b[0m\n",
      "\u001b[0;32m<ipython-input-12-146de78e944c>\u001b[0m in \u001b[0;36mgetThreshold\u001b[0;34m(S1_band)\u001b[0m\n\u001b[1;32m     12\u001b[0m     \u001b[0mh\u001b[0m \u001b[0;34m=\u001b[0m \u001b[0mS1_band\u001b[0m\u001b[0;34m.\u001b[0m\u001b[0mgetRasterHeight\u001b[0m\u001b[0;34m(\u001b[0m\u001b[0;34m)\u001b[0m\u001b[0;34m\u001b[0m\u001b[0;34m\u001b[0m\u001b[0m\n\u001b[1;32m     13\u001b[0m     \u001b[0mband_data\u001b[0m \u001b[0;34m=\u001b[0m \u001b[0mnp\u001b[0m\u001b[0;34m.\u001b[0m\u001b[0mzeros\u001b[0m\u001b[0;34m(\u001b[0m\u001b[0mw\u001b[0m \u001b[0;34m*\u001b[0m \u001b[0mh\u001b[0m\u001b[0;34m,\u001b[0m \u001b[0mnp\u001b[0m\u001b[0;34m.\u001b[0m\u001b[0mfloat32\u001b[0m\u001b[0;34m)\u001b[0m\u001b[0;34m\u001b[0m\u001b[0;34m\u001b[0m\u001b[0m\n\u001b[0;32m---> 14\u001b[0;31m     \u001b[0mS1_band\u001b[0m\u001b[0;34m.\u001b[0m\u001b[0mreadPixels\u001b[0m\u001b[0;34m(\u001b[0m\u001b[0;36m0\u001b[0m\u001b[0;34m,\u001b[0m \u001b[0;36m0\u001b[0m\u001b[0;34m,\u001b[0m \u001b[0mw\u001b[0m\u001b[0;34m,\u001b[0m \u001b[0mh\u001b[0m\u001b[0;34m,\u001b[0m \u001b[0mband_data\u001b[0m\u001b[0;34m)\u001b[0m\u001b[0;34m\u001b[0m\u001b[0;34m\u001b[0m\u001b[0m\n\u001b[0m\u001b[1;32m     15\u001b[0m     \u001b[0mband_data\u001b[0m\u001b[0;34m.\u001b[0m\u001b[0mshape\u001b[0m \u001b[0;34m=\u001b[0m \u001b[0mh\u001b[0m \u001b[0;34m*\u001b[0m \u001b[0mw\u001b[0m\u001b[0;34m\u001b[0m\u001b[0;34m\u001b[0m\u001b[0m\n\u001b[1;32m     16\u001b[0m \u001b[0;34m\u001b[0m\u001b[0m\n",
      "\u001b[0;31mMemoryError\u001b[0m: "
     ]
    }
   ],
   "source": [
    "import numpy as np \n",
    "\n",
    "\n",
    "ProcessedData = preprocess_sentinel_1(file_sentinel_product= file_sentinel)\n",
    "\n",
    "FloodMask  = binary_flood_mask(S1 = ProcessedData)"
   ]
  },
  {
   "cell_type": "code",
   "execution_count": 23,
   "metadata": {},
   "outputs": [
    {
     "data": {
      "text/plain": [
       "0"
      ]
     },
     "execution_count": 23,
     "metadata": {},
     "output_type": "execute_result"
    }
   ],
   "source": [
    "import numpy as np\n",
    "import gc\n",
    "\n",
    "a = np.array([1,2,3])\n",
    "del a\n",
    "gc.collect()"
   ]
  },
  {
   "cell_type": "code",
   "execution_count": null,
   "metadata": {},
   "outputs": [],
   "source": []
  },
  {
   "cell_type": "code",
   "execution_count": null,
   "metadata": {},
   "outputs": [],
   "source": []
  },
  {
   "cell_type": "code",
   "execution_count": null,
   "metadata": {},
   "outputs": [],
   "source": []
  },
  {
   "cell_type": "markdown",
   "metadata": {},
   "source": [
    "# export resulting binarized image "
   ]
  },
  {
   "cell_type": "code",
   "execution_count": null,
   "metadata": {},
   "outputs": [],
   "source": []
  },
  {
   "cell_type": "code",
   "execution_count": null,
   "metadata": {},
   "outputs": [],
   "source": []
  },
  {
   "cell_type": "code",
   "execution_count": null,
   "metadata": {},
   "outputs": [],
   "source": []
  },
  {
   "cell_type": "code",
   "execution_count": null,
   "metadata": {},
   "outputs": [],
   "source": []
  },
  {
   "cell_type": "code",
   "execution_count": null,
   "metadata": {},
   "outputs": [],
   "source": []
  },
  {
   "cell_type": "code",
   "execution_count": null,
   "metadata": {},
   "outputs": [],
   "source": []
  },
  {
   "cell_type": "code",
   "execution_count": null,
   "metadata": {},
   "outputs": [],
   "source": []
  },
  {
   "cell_type": "code",
   "execution_count": null,
   "metadata": {},
   "outputs": [],
   "source": []
  },
  {
   "cell_type": "code",
   "execution_count": null,
   "metadata": {},
   "outputs": [],
   "source": []
  },
  {
   "cell_type": "code",
   "execution_count": null,
   "metadata": {},
   "outputs": [],
   "source": []
  },
  {
   "cell_type": "markdown",
   "metadata": {},
   "source": [
    "# Image processing "
   ]
  },
  {
   "cell_type": "code",
   "execution_count": null,
   "metadata": {},
   "outputs": [],
   "source": [
    "file_path = 'S1B_IW_GRDH_1SDV_20210625T094803_20210625T094828_027511_0348BD_AFA7.zip'\n",
    "S1_source = snappy.ProductIO.readProduct(file_path)\n"
   ]
  },
  {
   "cell_type": "code",
   "execution_count": null,
   "metadata": {},
   "outputs": [],
   "source": [
    "# read geographic coordinates from Sentinel-1 image meta data\n",
    "meta_data = S1_source.getMetadataRoot().getElement('Abstracted_Metadata')"
   ]
  },
  {
   "cell_type": "code",
   "execution_count": null,
   "metadata": {},
   "outputs": [],
   "source": [
    "meta_data"
   ]
  },
  {
   "cell_type": "code",
   "execution_count": null,
   "metadata": {},
   "outputs": [],
   "source": [
    "# start processing button \n",
    "def on_processButton_clicked(b, S1_source, polygon_flex):\n",
    "    # get coordinates and store in WKT format variable\n",
    "    lng1, lat1 = polygon_flex.locations[0][0]['lng'], polygon_flex.locations[0][0]['lat']\n",
    "    lng2, lat2 = polygon_flex.locations[0][1]['lng'], polygon_flex.locations[0][1]['lat']\n",
    "    lng3, lat3 = polygon_flex.locations[0][2]['lng'], polygon_flex.locations[0][2]['lat']\n",
    "    lng4, lat4 = polygon_flex.locations[0][3]['lng'], polygon_flex.locations[0][3]['lat']\n",
    "    footprint = 'POLYGON((%s %s, %s %s, %s %s, %s %s, %s %s))' % (lng1, lat1, lng2, lat2, lng3, lat3, lng4, lat4, lng1, lat1)\n",
    "    # run processing\n",
    "    processing(S1_source, footprint)"
   ]
  },
  {
   "cell_type": "code",
   "execution_count": null,
   "metadata": {},
   "outputs": [],
   "source": [
    "center = (meta_data.getAttributeDouble('centre_lat'), meta_data.getAttributeDouble('centre_lon'))\n",
    "locations = [[{'lat' : meta_data.getAttributeDouble('first_near_lat'), 'lng' : meta_data.getAttributeDouble('first_near_long')},\n",
    "              {'lat' : meta_data.getAttributeDouble('last_near_lat'),  'lng' : meta_data.getAttributeDouble('last_near_long')},\n",
    "              {'lat' : meta_data.getAttributeDouble('last_far_lat'),   'lng' : meta_data.getAttributeDouble('last_far_long')},\n",
    "              {'lat' : meta_data.getAttributeDouble('first_far_lat'),  'lng' : meta_data.getAttributeDouble('first_far_long')}]]\n",
    "\n",
    "# creates interactive map\n",
    "basic_map = ipyleaflet.Map(center = center, zoom = 7.5)\n",
    "# defines fixed polygon illustrating Sentinel-1 image\n",
    "polygon_fix = ipyleaflet.Polygon(locations = locations, color='royalblue')\n",
    "basic_map.add_layer(polygon_fix)\n",
    "# displays map\n",
    "basic_map.add_control(ipyleaflet.ScaleControl(position='bottomleft'))\n",
    "display(basic_map)\n",
    "\n",
    "# editable polygon determining AOI\n",
    "polygon_flex = ipyleaflet.Polygon(locations = locations,\n",
    "                                  color = 'green',\n",
    "                                  fill_color = 'green',\n",
    "                                  transform = True)\n",
    "basic_map.add_layer(polygon_flex)\n",
    "# create process button and call function to start ptocessing when clicked\n",
    "processButton = ipywidgets.Button(description = 'Start Processing')\n",
    "processButton.on_click(functools.partial(on_processButton_clicked,\n",
    "                                         S1_source = S1_source,\n",
    "                                         polygon_flex = polygon_flex))\n",
    "display(processButton)"
   ]
  },
  {
   "cell_type": "code",
   "execution_count": null,
   "metadata": {},
   "outputs": [],
   "source": [
    "lng1, lat1 = polygon_flex.locations[0][0]['lng'], polygon_flex.locations[0][0]['lat']\n",
    "lng2, lat2 = polygon_flex.locations[0][1]['lng'], polygon_flex.locations[0][1]['lat']\n",
    "lng3, lat3 = polygon_flex.locations[0][2]['lng'], polygon_flex.locations[0][2]['lat']\n",
    "lng4, lat4 = polygon_flex.locations[0][3]['lng'], polygon_flex.locations[0][3]['lat']\n",
    "footprint = 'POLYGON((%s %s, %s %s, %s %s, %s %s, %s %s))' % (lng1, lat1, lng2, lat2, lng3, lat3, lng4, lat4, lng1, lat1)\n",
    "footprint "
   ]
  },
  {
   "cell_type": "code",
   "execution_count": null,
   "metadata": {},
   "outputs": [],
   "source": [
    "import functools "
   ]
  },
  {
   "cell_type": "code",
   "execution_count": null,
   "metadata": {},
   "outputs": [],
   "source": [
    "locations "
   ]
  },
  {
   "cell_type": "code",
   "execution_count": null,
   "metadata": {},
   "outputs": [],
   "source": [
    "if polarisations == 'both':\n",
    "    sourceBands = 'Amplitude_VH,Intensity_VH,Amplitude_VV,Intensity_VV'\n",
    "    output_extensions   = 'processed_VHVV'\n",
    "elif polarisations == 'VH':\n",
    "    sourceBands = 'Amplitude_VH,Intensity_VH'\n",
    "    output_extensions   = 'processed_VH'\n",
    "elif polarisations == 'VV':\n",
    "    sourceBands = 'Amplitude_VV,Intensity_VV'\n",
    "    output_extensions   = 'processed_VV'\n",
    "\n",
    "\n",
    "\n",
    "\n",
    "parameters = snappy.HashMap()\n",
    "parameters.put('copyMetadata', True)\n",
    "geom = snappy.WKTReader().read(footprint)\n",
    "parameters.put('geoRegion', geom)\n",
    "parameters.put('sourceBands', sourceBands)\n",
    "S1_crop = snappy.GPF.createProduct('Subset', parameters, S1_source)"
   ]
  },
  {
   "cell_type": "code",
   "execution_count": null,
   "metadata": {},
   "outputs": [],
   "source": [
    "S1_crop "
   ]
  },
  {
   "cell_type": "code",
   "execution_count": null,
   "metadata": {},
   "outputs": [],
   "source": [
    "geom "
   ]
  },
  {
   "cell_type": "code",
   "execution_count": null,
   "metadata": {},
   "outputs": [],
   "source": [
    "snappy.GPF.createProduct()"
   ]
  },
  {
   "cell_type": "code",
   "execution_count": null,
   "metadata": {},
   "outputs": [],
   "source": []
  },
  {
   "cell_type": "code",
   "execution_count": null,
   "metadata": {},
   "outputs": [],
   "source": []
  },
  {
   "cell_type": "code",
   "execution_count": null,
   "metadata": {},
   "outputs": [],
   "source": []
  },
  {
   "cell_type": "code",
   "execution_count": null,
   "metadata": {},
   "outputs": [],
   "source": []
  },
  {
   "cell_type": "code",
   "execution_count": null,
   "metadata": {},
   "outputs": [],
   "source": []
  },
  {
   "cell_type": "code",
   "execution_count": null,
   "metadata": {},
   "outputs": [],
   "source": [
    "def get_operating_system_name(operating_system):\n",
    "    if any(keyWord in operating_system for keyWord in ['mac', 'Mac']):\n",
    "        os_name = 'macos'\n",
    "    elif any(keyWord in operating_system for keyWord in ['windows', 'Windows']):\n",
    "        os_name = 'windows-x64'\n",
    "    elif any(keyWord in operating_system for keyWord in ['Unix', 'unix','Linux','linux']):\n",
    "        os_name = 'unix'\n",
    "    return os_name\n",
    "\n",
    "def get_installer_extension(operating_system):\n",
    "    if operating_system == 'macos':\n",
    "        installer_extension = '.dmg'\n",
    "    elif operating_system.startswith('windows'):\n",
    "        installer_extension = '.exe'\n",
    "    elif operating_system == 'unix':\n",
    "        installer_extension = '.sh'\n",
    "    return installer_extension \n",
    "\n",
    "def get_snap_toolboxes(toolboxes):\n",
    "    if 'sentinel' in toolboxes.lower():\n",
    "        snap_toolboxes = 'sentinel'\n",
    "    elif 'all' in toolboxes.lower():\n",
    "        snap_toolboxes = 'all'\n",
    "    return snap_toolboxes \n",
    "\n",
    "\n",
    "\n",
    "def get_download_link(operating_system = \"macOS\", toolbox = 'Sentinel Toolboxes'):\n",
    "    os_name = get_operating_system_name(operating_system)\n",
    "    installer_extension = get_installer_extension(os_name)\n",
    "    snap_toolboxes = get_snap_toolboxes(toolbox)\n",
    "    \n",
    "    prefix_download_link = 'https://download.esa.int/step/snap/8.0/installers/esa-snap'\n",
    "    download_link = '_'.join([prefix_download_link, snap_toolboxes,os_name, '8_0']) + installer_extension \n",
    "    return download_link\n",
    "\n",
    "\n",
    "def download_ESA_SNAP(operating_system = \"macOS\", toolbox = 'Sentinel Toolboxes'):\n",
    "    download_link = get_download_link(operating_system, toolbox)\n",
    "    print(\"Trying to access: \", download_link)\n",
    "    responce = requests.get(url = download_link)\n",
    "    return responce \n"
   ]
  },
  {
   "cell_type": "code",
   "execution_count": null,
   "metadata": {},
   "outputs": [],
   "source": [
    "t1 = time()\n",
    "responce = download_ESA_SNAP(\"mac\", 'sentinel')\n",
    "t2 = time()\n",
    "print(\"Responce obtained after: \", t2-t1, 'seconds')"
   ]
  },
  {
   "cell_type": "code",
   "execution_count": null,
   "metadata": {},
   "outputs": [],
   "source": [
    "from time import time \n",
    "time() - time()"
   ]
  },
  {
   "cell_type": "code",
   "execution_count": null,
   "metadata": {},
   "outputs": [],
   "source": [
    "path_download_file = '/Users/mishaklein/Desktop/esa-snap_sentinel_macos_8_0.dmg'\n",
    "t1 = time()\n",
    "# --- write contents (the file) to disc ---\n",
    "with open(path_download_file, \"wb\") as downloadFile:\n",
    "    downloadFile.write(responce.content)\n",
    "t2 = time()\n",
    "print(\"Wrote file into: \", path_download_file)\n",
    "print(\"saving file took: \", t2-t1, \"seconds\")"
   ]
  },
  {
   "cell_type": "code",
   "execution_count": null,
   "metadata": {},
   "outputs": [],
   "source": []
  }
 ],
 "metadata": {
  "kernelspec": {
   "display_name": "Python 3",
   "language": "python",
   "name": "python3"
  },
  "language_info": {
   "codemirror_mode": {
    "name": "ipython",
    "version": 3
   },
   "file_extension": ".py",
   "mimetype": "text/x-python",
   "name": "python",
   "nbconvert_exporter": "python",
   "pygments_lexer": "ipython3",
   "version": "3.9.5"
  }
 },
 "nbformat": 4,
 "nbformat_minor": 4
}
